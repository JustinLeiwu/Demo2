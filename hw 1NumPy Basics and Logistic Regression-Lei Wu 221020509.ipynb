{
 "cells": [
  {
   "cell_type": "markdown",
   "metadata": {},
   "source": [
    "## Before you begin, learn to write equations under Jupyter Markdown mode\n",
    "\n",
    "First, under \"help\" tab, click \"Keyboard Shortcuts\" to view shortcut operations, or click \"Markdown\" to view how to edit markdown cells.\n",
    "\n",
    "To switch between \"Markdown\" mode or \"code\" mode, click a cell you want to change, then under the tool tab (which is right above this cell) click the dropdown option which is to the left of the \"keyboard\" icon. \n",
    "\n",
    "Click Ctrl + Enter to run any cell in any mode.\n",
    "\n",
    "In jupyter you can write equations with Latex format. Simply type equations between two signs \"$\".\n",
    "\n",
    "Double click the cell to view the source code. \n",
    "\n"
   ]
  },
  {
   "cell_type": "markdown",
   "metadata": {},
   "source": [
    "# Part I Basics: Broadcasting and sigmoid function\n"
   ]
  },
  {
   "cell_type": "markdown",
   "metadata": {
    "collapsed": true
   },
   "source": [
    "## Broadcasting\n",
    "\n",
    "Broadcasting in NumPy follows a strict set of rules to determine the interaction between the two arrays:\n",
    "\n",
    "* Rule 1: If the two arrays differ in their number of dimensions, the shape of the one with fewer dimensions is padded with ones on its leading (left) side.\n",
    "* Rule 2: If the shape of the two arrays does not match in any dimension, the array with shape equal to 1 in that dimension is stretched to match the other shape.\n",
    "* Rule 3: If in any dimension the sizes disagree and neither is equal to 1, an error is raised."
   ]
  },
  {
   "cell_type": "code",
   "execution_count": 1,
   "metadata": {},
   "outputs": [],
   "source": [
    "import numpy as np"
   ]
  },
  {
   "cell_type": "code",
   "execution_count": 2,
   "metadata": {},
   "outputs": [],
   "source": [
    "a = np.array([0, 1, 2])\n",
    "b = np.array([5, 5, 5])"
   ]
  },
  {
   "cell_type": "code",
   "execution_count": 3,
   "metadata": {},
   "outputs": [
    {
     "data": {
      "text/plain": [
       "array([5, 6, 7])"
      ]
     },
     "execution_count": 3,
     "metadata": {},
     "output_type": "execute_result"
    }
   ],
   "source": [
    "a + b"
   ]
  },
  {
   "cell_type": "markdown",
   "metadata": {},
   "source": [
    "* If arrays are of same size, element to element operation takes place\n",
    "* Because of broadcasting, scaler value 5 is converted into vector & ops takes place"
   ]
  },
  {
   "cell_type": "code",
   "execution_count": 4,
   "metadata": {},
   "outputs": [
    {
     "data": {
      "text/plain": [
       "array([5, 6, 7])"
      ]
     },
     "execution_count": 4,
     "metadata": {},
     "output_type": "execute_result"
    }
   ],
   "source": [
    "a + 5"
   ]
  },
  {
   "cell_type": "code",
   "execution_count": 5,
   "metadata": {},
   "outputs": [],
   "source": [
    "a = np.array([ [1,2,3], [4,5,6] ])"
   ]
  },
  {
   "cell_type": "code",
   "execution_count": 6,
   "metadata": {},
   "outputs": [
    {
     "data": {
      "text/plain": [
       "array([[ 6,  7,  8],\n",
       "       [ 9, 10, 11]])"
      ]
     },
     "execution_count": 6,
     "metadata": {},
     "output_type": "execute_result"
    }
   ],
   "source": [
    "a + 5"
   ]
  },
  {
   "cell_type": "markdown",
   "metadata": {},
   "source": [
    "<img src=\"https://github.com/awantik/PythonDataScienceHandbook/raw/f2c4a8af3f6e7e5f455469839e31b09ab6c22868/notebooks/figures/02.05-broadcasting.png\">"
   ]
  },
  {
   "cell_type": "code",
   "execution_count": 7,
   "metadata": {},
   "outputs": [],
   "source": [
    "a = np.arange(3).reshape(3,1)"
   ]
  },
  {
   "cell_type": "code",
   "execution_count": 8,
   "metadata": {},
   "outputs": [
    {
     "data": {
      "text/plain": [
       "array([[0],\n",
       "       [1],\n",
       "       [2]])"
      ]
     },
     "execution_count": 8,
     "metadata": {},
     "output_type": "execute_result"
    }
   ],
   "source": [
    "a"
   ]
  },
  {
   "cell_type": "code",
   "execution_count": 9,
   "metadata": {},
   "outputs": [],
   "source": [
    "b = np.arange(3)"
   ]
  },
  {
   "cell_type": "code",
   "execution_count": 10,
   "metadata": {},
   "outputs": [
    {
     "data": {
      "text/plain": [
       "array([[0, 1, 2],\n",
       "       [1, 2, 3],\n",
       "       [2, 3, 4]])"
      ]
     },
     "execution_count": 10,
     "metadata": {},
     "output_type": "execute_result"
    }
   ],
   "source": [
    "a + b"
   ]
  },
  {
   "cell_type": "markdown",
   "metadata": {},
   "source": [
    "Now lets initiate a matrix M and a vector a. Notice that the length of the vector a has to match the last dimension of M (or the dimension 1)"
   ]
  },
  {
   "cell_type": "code",
   "execution_count": 11,
   "metadata": {},
   "outputs": [],
   "source": [
    "M = np.ones((2, 3))\n",
    "a = np.arange(3)"
   ]
  },
  {
   "cell_type": "code",
   "execution_count": 12,
   "metadata": {},
   "outputs": [
    {
     "data": {
      "text/plain": [
       "((2, 3),\n",
       " array([[1., 1., 1.],\n",
       "        [1., 1., 1.]]))"
      ]
     },
     "execution_count": 12,
     "metadata": {},
     "output_type": "execute_result"
    }
   ],
   "source": [
    "M.shape, M"
   ]
  },
  {
   "cell_type": "code",
   "execution_count": 13,
   "metadata": {},
   "outputs": [
    {
     "data": {
      "text/plain": [
       "(3,)"
      ]
     },
     "execution_count": 13,
     "metadata": {},
     "output_type": "execute_result"
    }
   ],
   "source": [
    "a.shape"
   ]
  },
  {
   "cell_type": "code",
   "execution_count": 14,
   "metadata": {},
   "outputs": [
    {
     "data": {
      "text/plain": [
       "array([[1., 2., 3.],\n",
       "       [1., 2., 3.]])"
      ]
     },
     "execution_count": 14,
     "metadata": {},
     "output_type": "execute_result"
    }
   ],
   "source": [
    "M + a"
   ]
  },
  {
   "cell_type": "code",
   "execution_count": 15,
   "metadata": {},
   "outputs": [
    {
     "data": {
      "text/plain": [
       "array([[1., 2., 3.],\n",
       "       [1., 2., 3.]])"
      ]
     },
     "execution_count": 15,
     "metadata": {},
     "output_type": "execute_result"
    }
   ],
   "source": [
    "a + M"
   ]
  },
  {
   "cell_type": "code",
   "execution_count": 16,
   "metadata": {},
   "outputs": [],
   "source": [
    "a = np.array([[1,2,3],[4,5,6]])\n",
    "b = np.array([[1,2,3],[4,5,6],[7,8,9]])\n",
    "\n"
   ]
  },
  {
   "cell_type": "code",
   "execution_count": 17,
   "metadata": {},
   "outputs": [
    {
     "ename": "ValueError",
     "evalue": "operands could not be broadcast together with shapes (2,3) (3,3) ",
     "output_type": "error",
     "traceback": [
      "\u001b[0;31m---------------------------------------------------------------------------\u001b[0m",
      "\u001b[0;31mValueError\u001b[0m                                Traceback (most recent call last)",
      "\u001b[0;32m/var/folders/l2/08sytppn5c5_fqw0ww0zx7740000gn/T/ipykernel_28043/3378120176.py\u001b[0m in \u001b[0;36m<module>\u001b[0;34m\u001b[0m\n\u001b[1;32m      1\u001b[0m \u001b[0;31m# will this work? why?\u001b[0m\u001b[0;34m\u001b[0m\u001b[0;34m\u001b[0m\u001b[0;34m\u001b[0m\u001b[0m\n\u001b[0;32m----> 2\u001b[0;31m \u001b[0ma\u001b[0m \u001b[0;34m+\u001b[0m \u001b[0mb\u001b[0m\u001b[0;34m\u001b[0m\u001b[0;34m\u001b[0m\u001b[0m\n\u001b[0m",
      "\u001b[0;31mValueError\u001b[0m: operands could not be broadcast together with shapes (2,3) (3,3) "
     ]
    }
   ],
   "source": [
    "# will this work? why?\n",
    "a + b"
   ]
  },
  {
   "cell_type": "code",
   "execution_count": 18,
   "metadata": {},
   "outputs": [],
   "source": [
    "a = a.reshape(1,2,3)\n",
    "b = b.reshape(3,1,3)"
   ]
  },
  {
   "cell_type": "code",
   "execution_count": 19,
   "metadata": {},
   "outputs": [
    {
     "data": {
      "text/plain": [
       "(array([[[1, 2, 3],\n",
       "         [4, 5, 6]]]),\n",
       " array([[[1, 2, 3]],\n",
       " \n",
       "        [[4, 5, 6]],\n",
       " \n",
       "        [[7, 8, 9]]]))"
      ]
     },
     "execution_count": 19,
     "metadata": {},
     "output_type": "execute_result"
    }
   ],
   "source": [
    "a, b"
   ]
  },
  {
   "cell_type": "code",
   "execution_count": 20,
   "metadata": {},
   "outputs": [
    {
     "data": {
      "text/plain": [
       "array([[[ 2,  4,  6],\n",
       "        [ 5,  7,  9]],\n",
       "\n",
       "       [[ 5,  7,  9],\n",
       "        [ 8, 10, 12]],\n",
       "\n",
       "       [[ 8, 10, 12],\n",
       "        [11, 13, 15]]])"
      ]
     },
     "execution_count": 20,
     "metadata": {},
     "output_type": "execute_result"
    }
   ],
   "source": [
    "# will this work? why?\n",
    "\n",
    "a + b"
   ]
  },
  {
   "cell_type": "markdown",
   "metadata": {
    "collapsed": true
   },
   "source": [
    "**Practice time !!**\n",
    "\n",
    "First let M be a zero matrix of size 4 * 3, $a$ be an array of size (3, ) with elements ranging from 0 to 2, $b$ be an array of size (4, ) with elements ranging from 1 to 4. "
   ]
  },
  {
   "cell_type": "code",
   "execution_count": 21,
   "metadata": {},
   "outputs": [],
   "source": [
    "# Question 1\n",
    "M = np.zeros((4,3))\n",
    "\n",
    "a = np.arange(3)\n",
    "b = np.arange(1,5)"
   ]
  },
  {
   "cell_type": "code",
   "execution_count": 22,
   "metadata": {},
   "outputs": [
    {
     "name": "stdout",
     "output_type": "stream",
     "text": [
      "[[0. 0. 0.]\n",
      " [0. 0. 0.]\n",
      " [0. 0. 0.]\n",
      " [0. 0. 0.]]\n",
      "-------\n",
      "[0 1 2]\n",
      "-------\n",
      "[1 2 3 4]\n"
     ]
    }
   ],
   "source": [
    "print(M)\n",
    "print(\"-------\")\n",
    "print(a)\n",
    "print(\"-------\")\n",
    "print(b)"
   ]
  },
  {
   "cell_type": "markdown",
   "metadata": {},
   "source": [
    "Now, let's add $a$ to each row of M and assign the resulting matrix to N"
   ]
  },
  {
   "cell_type": "code",
   "execution_count": 23,
   "metadata": {},
   "outputs": [
    {
     "data": {
      "text/plain": [
       "array([[0., 1., 2.],\n",
       "       [0., 1., 2.],\n",
       "       [0., 1., 2.],\n",
       "       [0., 1., 2.]])"
      ]
     },
     "execution_count": 23,
     "metadata": {},
     "output_type": "execute_result"
    }
   ],
   "source": [
    "# Question 2\n",
    "N = M + a\n",
    "N"
   ]
  },
  {
   "cell_type": "markdown",
   "metadata": {},
   "source": [
    "Finally, add $b$ to each column of N using broadcast. There are multiple ways to do it. You can try np.newaxis or reshape. "
   ]
  },
  {
   "cell_type": "code",
   "execution_count": 24,
   "metadata": {},
   "outputs": [],
   "source": [
    "# Question 3\n",
    "N = N+b.reshape((4,1))"
   ]
  },
  {
   "cell_type": "code",
   "execution_count": 25,
   "metadata": {},
   "outputs": [
    {
     "data": {
      "text/plain": [
       "array([[1., 2., 3.],\n",
       "       [2., 3., 4.],\n",
       "       [3., 4., 5.],\n",
       "       [4., 5., 6.]])"
      ]
     },
     "execution_count": 25,
     "metadata": {},
     "output_type": "execute_result"
    }
   ],
   "source": [
    "N"
   ]
  },
  {
   "cell_type": "markdown",
   "metadata": {},
   "source": [
    "## Sigmoid function and np.exp() function\n",
    "\n",
    "\n",
    "**Reminder**:\n",
    "$sigmoid(x) = \\frac{1}{1+e^{-x}}$ is sometimes also known as the logistic function. It is a non-linear function used not only in Machine Learning (Logistic Regression), but also in Deep Learning.\n",
    "\n",
    "<img src=\"images/Sigmoid.png\" style=\"width:500px;height:228px;\">\n",
    "\n",
    "To refer to a function belonging to a specific package you could call it using package_name.function(). Run the code below to see an example with math.exp()."
   ]
  },
  {
   "cell_type": "markdown",
   "metadata": {},
   "source": [
    "**Exercise**: Implement the sigmoid function and its derivative using numpy. \n",
    "\n",
    "**Instructions**: When you call a function, say exponential on an array, numpy allows for element-wise operation over the whole array.\n",
    "$$ \\text{For } x \\in \\mathbb{R}^n \\text{,     } sigmoid(x) = sigmoid\\begin{pmatrix}\n",
    "    x_1  \\\\\n",
    "    x_2  \\\\\n",
    "    ...  \\\\\n",
    "    x_n  \\\\\n",
    "\\end{pmatrix} = \\begin{pmatrix}\n",
    "    \\frac{1}{1+e^{-x_1}}  \\\\\n",
    "    \\frac{1}{1+e^{-x_2}}  \\\\\n",
    "    ...  \\\\\n",
    "    \\frac{1}{1+e^{-x_n}}  \\\\\n",
    "\\end{pmatrix}\\tag{1} $$"
   ]
  },
  {
   "cell_type": "code",
   "execution_count": 26,
   "metadata": {},
   "outputs": [],
   "source": [
    "# run this\n",
    "\n",
    "a = np.random.rand(3) # This initiate an random arry"
   ]
  },
  {
   "cell_type": "code",
   "execution_count": 27,
   "metadata": {},
   "outputs": [
    {
     "data": {
      "text/plain": [
       "array([0.74149521, 0.54266982, 0.56783204])"
      ]
     },
     "execution_count": 27,
     "metadata": {},
     "output_type": "execute_result"
    }
   ],
   "source": [
    "b = np.exp(-a)\n",
    "b"
   ]
  },
  {
   "cell_type": "code",
   "execution_count": 28,
   "metadata": {},
   "outputs": [],
   "source": [
    "# wrtie your code for sigmoid here\n",
    "\n",
    "\n",
    "\n",
    "def sigmoid(x):\n",
    "    \"\"\"\n",
    "    Compute the sigmoid of x\n",
    "\n",
    "    Arguments:\n",
    "    x -- A scalar or numpy array of any size\n",
    "\n",
    "    Return:\n",
    "    s -- sigmoid(x)\n",
    "    \"\"\"\n",
    "    s = 1/(1+ np.exp(-x))\n",
    "    \n",
    "    return s"
   ]
  },
  {
   "cell_type": "code",
   "execution_count": 29,
   "metadata": {},
   "outputs": [
    {
     "data": {
      "text/plain": [
       "array([0.57421921, 0.64822685, 0.63782342])"
      ]
     },
     "execution_count": 29,
     "metadata": {},
     "output_type": "execute_result"
    }
   ],
   "source": [
    "sigmoid(a)"
   ]
  },
  {
   "cell_type": "markdown",
   "metadata": {},
   "source": [
    "**Excercise** Define a class named My_Sigmoid Within the class, define two methods forward and backward. The forward method will take an input array $x$ and calculate its sigmoid transformation. The backward will calculate the derivative of sigmoid function at $x$\n",
    "\n",
    "**Instruction** The formula is: $$sigmoid\\_derivative(x) = \\sigma'(x) = \\sigma(x) (1 - \\sigma(x))\\tag{2}$$\n",
    "You often code this function in two steps:\n",
    "1. Set s to be the sigmoid of x. You might find your sigmoid(x) function useful.\n",
    "2. Compute $\\sigma'(x) = s(1-s)$"
   ]
  },
  {
   "cell_type": "code",
   "execution_count": 30,
   "metadata": {},
   "outputs": [],
   "source": [
    "class My_Sigmoid:\n",
    "    '''\n",
    "    forward: compute the sigmoid(x) given x, x can be a list or a numpy array or a value, if x is a list, then perform element \n",
    "    wise transformation.\n",
    "    \n",
    "    backward: compute the derivative of sigmoid(x), using the fomula above\n",
    "    \n",
    "    '''\n",
    "    def __init__(self, x):\n",
    "        if x is None:\n",
    "            self.y= 0\n",
    "            self.dy = 0\n",
    "        else:\n",
    "            x = np.array(x)\n",
    "            self.y = 1/(np.exp(-x) + 1)\n",
    "            self.dy = self.y*(1-self.y)\n",
    "\n",
    "    def forward(self, x):\n",
    "        x = np.array(x)\n",
    "        #######one line code here#######\n",
    "        self.y = 1/(1 + np.exp(-x))\n",
    "        return self.y\n",
    "    def backward(self, x):\n",
    "        x = np.array(x)\n",
    "        #######one line code here#######\n",
    "        self.y = mysigmoid.forward(x)\n",
    "        #######one line code here#######\n",
    "        self.dy = self.y * (1 - self.y)\n",
    "        \n",
    "        \n",
    "        return self.dy\n",
    "        \n",
    "    "
   ]
  },
  {
   "cell_type": "code",
   "execution_count": 31,
   "metadata": {},
   "outputs": [
    {
     "name": "stdout",
     "output_type": "stream",
     "text": [
      "[9.99954602e-01 4.53978687e-05 5.00000000e-01 8.80797078e-01]\n"
     ]
    },
    {
     "data": {
      "text/plain": [
       "array([4.53958077e-05, 4.53958077e-05, 2.50000000e-01, 1.04993585e-01])"
      ]
     },
     "execution_count": 31,
     "metadata": {},
     "output_type": "execute_result"
    }
   ],
   "source": [
    "# test:\n",
    "mysigmoid= My_Sigmoid(x = None)\n",
    "\n",
    "mysigmoid.forward([10, -10, 0, 2])\n",
    "print(mysigmoid.y)\n",
    "mysigmoid.backward([10, -10, 0, 2])"
   ]
  },
  {
   "cell_type": "markdown",
   "metadata": {},
   "source": [
    "## Reshaping arrays\n",
    "\n",
    "Two common numpy functions used in deep learning are [np.shape](https://docs.scipy.org/doc/numpy/reference/generated/numpy.ndarray.shape.html) and [np.reshape()](https://docs.scipy.org/doc/numpy/reference/generated/numpy.reshape.html). \n",
    "- X.shape is used to get the shape (dimension) of a matrix/vector X. \n",
    "- X.reshape(...) is used to reshape X into some other dimension. \n",
    "\n",
    "For example, in computer science, an image is represented by a 3D array of shape $(length, height, depth = 3)$. However, when you read an image as the input of an algorithm you convert it to a vector of shape $(length*height*3, 1)$. In other words, you \"unroll\", or reshape, the 3D array into a 1D vector.\n",
    "\n",
    "*Credit for the picture: Andrew Ng Deep Learning*\n",
    "\n",
    "<img src=\"images/image2vector_kiank.png\" style=\"width:500px;height:300;\">\n",
    "\n",
    "**Exercise**: Implement `image2vector()` that takes an input of shape (length, height, 3) and returns a vector of shape (length\\*height\\*3, 1). For example, if you would like to reshape an array v of shape (a, b, c) into a vector of shape (a*b,c) you would do:\n",
    "``` python\n",
    "v = v.reshape((v.shape[0]*v.shape[1], v.shape[2])) # v.shape[0] = a ; v.shape[1] = b ; v.shape[2] = c\n",
    "```\n",
    "- Please don't hardcode the dimensions of image as a constant. Instead look up the quantities you need with `image.shape[0]`, etc. "
   ]
  },
  {
   "cell_type": "code",
   "execution_count": 32,
   "metadata": {},
   "outputs": [],
   "source": [
    "# GRADED FUNCTION: image2vector\n",
    "def image2vector(image):\n",
    "    \"\"\"\n",
    "    Argument:\n",
    "    image -- a numpy array of shape (length, height, depth)\n",
    "    \n",
    "    Returns:\n",
    "    v -- a vector of shape (length*height*depth, 1)\n",
    "    \"\"\"\n",
    "    v = image.reshape((image.shape[0] * image.shape[1] * image.shape[2], 1))\n",
    "    \n",
    "    return v\n",
    "\n",
    "\n"
   ]
  },
  {
   "cell_type": "code",
   "execution_count": 33,
   "metadata": {},
   "outputs": [
    {
     "name": "stdout",
     "output_type": "stream",
     "text": [
      "image2vector(image) = [[0.67826139]\n",
      " [0.29380381]\n",
      " [0.90714982]\n",
      " [0.52835647]\n",
      " [0.4215251 ]\n",
      " [0.45017551]\n",
      " [0.92814219]\n",
      " [0.96677647]\n",
      " [0.85304703]\n",
      " [0.52351845]\n",
      " [0.19981397]\n",
      " [0.27417313]\n",
      " [0.60659855]\n",
      " [0.00533165]\n",
      " [0.10820313]\n",
      " [0.49978937]\n",
      " [0.34144279]\n",
      " [0.94630077]]\n"
     ]
    }
   ],
   "source": [
    "# This is a 3 by 3 by 2 array, typically images will be (num_px_x, num_px_y,3) where 3 represents the RGB values\n",
    "image = np.array([[[ 0.67826139,  0.29380381],\n",
    "        [ 0.90714982,  0.52835647],\n",
    "        [ 0.4215251 ,  0.45017551]],\n",
    "\n",
    "       [[ 0.92814219,  0.96677647],\n",
    "        [ 0.85304703,  0.52351845],\n",
    "        [ 0.19981397,  0.27417313]],\n",
    "\n",
    "       [[ 0.60659855,  0.00533165],\n",
    "        [ 0.10820313,  0.49978937],\n",
    "        [ 0.34144279,  0.94630077]]])\n",
    "\n",
    "vectorized_image = image2vector(image)\n",
    "\n",
    "print (\"image2vector(image) = \" + str(vectorized_image))"
   ]
  },
  {
   "cell_type": "markdown",
   "metadata": {},
   "source": [
    "**Exercise**: Implement `vector2image()` that takes the above vector and reshape it back to an image, but this time of the shape (length\\*height ,depth)."
   ]
  },
  {
   "cell_type": "code",
   "execution_count": 34,
   "metadata": {},
   "outputs": [],
   "source": [
    "def vector2image(vec, shape):\n",
    "    \"\"\"\n",
    "    Argument:\n",
    "    vec -- a flattened image vector of shape (length*height*depth, 1)\n",
    "    shape -- a array indicating desired shape\n",
    "    \n",
    "    Returns:\n",
    "    v -- a vector of shape (length*height*depth, 1)\n",
    "    \"\"\"\n",
    "    image = vec.reshape(shape[0], shape[1])\n",
    "    \n",
    "    return image"
   ]
  },
  {
   "cell_type": "code",
   "execution_count": 35,
   "metadata": {},
   "outputs": [
    {
     "name": "stdout",
     "output_type": "stream",
     "text": [
      "vector2image(vectorized_image ) = [[0.67826139 0.29380381]\n",
      " [0.90714982 0.52835647]\n",
      " [0.4215251  0.45017551]\n",
      " [0.92814219 0.96677647]\n",
      " [0.85304703 0.52351845]\n",
      " [0.19981397 0.27417313]\n",
      " [0.60659855 0.00533165]\n",
      " [0.10820313 0.49978937]\n",
      " [0.34144279 0.94630077]]\n"
     ]
    }
   ],
   "source": [
    "# call the function, fill in the right shape\n",
    "\n",
    "image_new = vector2image(vectorized_image, shape =(image.shape[0] * image.shape[1] , image.shape[2]) )\n",
    "print (\"vector2image(vectorized_image ) = \" + str(image_new))"
   ]
  },
  {
   "cell_type": "markdown",
   "metadata": {},
   "source": [
    "# Part II Logistic Regression with a Neural Network mindset\n",
    "\n",
    "This assignment will step you through how to do this with a Neural Network mindset, and so will also hone your intuitions about deep learning.\n",
    "\n",
    "**Instructions:**\n",
    "- Do not use loops (for/while) in your code, unless the instructions explicitly ask you to do so.\n",
    "\n",
    "\n",
    "Implement  a gradient descent algorithm for logistic regression .This data are taken from a larger dataset, described in a South African Medical Journal.\n",
    "\n",
    "**Dataset: Use the following dataset for the implementation.**\n",
    "\n",
    "The full data is available at: http://statweb.stanford.edu/~tibs/ElemStatLearn/datasets/ For this project, you can use those located under in the folder. \n",
    "\n",
    "\n",
    "#### Description\n",
    "A retrospective sample of males in a heart-disease high-risk region of South Africa. There are roughly two controls per case of CHD. Many of the CHD positive men have undergone blood pressure reduction treatment and other programs to reduce their risk factors after their CHD event. In some cases, the measurements were made after these treatments.\n",
    " \n",
    "### Steps to implement\n",
    "\n",
    "*\tEncode the categorical variables.\n",
    "*\tNormalize the numerical variables\n",
    "*\tRandomly initialize beta values\n",
    "*\tDefine a sigmoid function to predict Y\n",
    "* Define a function for calculating binary cross entropy loss function \n",
    "* Define a function for updating beta values. The derivative term is same as derivative term for the linear regression as discussed in the class.\n",
    "* Write the code for gradient descent iterations.\n",
    "* Plot the cost function for different alpha (learning parameters) values.\n",
    "* Use sklearn logistic regression API and compare the estimation of beta values.\n",
    "\n",
    "\n",
    "### Important! \n",
    "\n",
    "Read the codes and comments carefully. You may need to fill in the code when you see \"################finish the code below##################\" in the comment line. Do not miss them.\n"
   ]
  },
  {
   "cell_type": "markdown",
   "metadata": {},
   "source": [
    "## 1 - Packages ##\n",
    "\n",
    "\n",
    "If you don't have those packages, try pip/conda install *-insert package name-*"
   ]
  },
  {
   "cell_type": "code",
   "execution_count": 36,
   "metadata": {},
   "outputs": [],
   "source": [
    "#Load required libraries\n",
    "import pandas as pd\n",
    "import numpy as np\n",
    "import math\n",
    "\n",
    "%matplotlib inline"
   ]
  },
  {
   "cell_type": "markdown",
   "metadata": {},
   "source": [
    "## 2 - Overview of the Problem set ##\n",
    "\n",
    "\n"
   ]
  },
  {
   "cell_type": "code",
   "execution_count": 37,
   "metadata": {},
   "outputs": [],
   "source": [
    "#load SAHeart csv file\n",
    "SAHeart_df = pd.read_csv('SAHeart.csv')"
   ]
  },
  {
   "cell_type": "code",
   "execution_count": 38,
   "metadata": {},
   "outputs": [
    {
     "data": {
      "text/html": [
       "<div>\n",
       "<style scoped>\n",
       "    .dataframe tbody tr th:only-of-type {\n",
       "        vertical-align: middle;\n",
       "    }\n",
       "\n",
       "    .dataframe tbody tr th {\n",
       "        vertical-align: top;\n",
       "    }\n",
       "\n",
       "    .dataframe thead th {\n",
       "        text-align: right;\n",
       "    }\n",
       "</style>\n",
       "<table border=\"1\" class=\"dataframe\">\n",
       "  <thead>\n",
       "    <tr style=\"text-align: right;\">\n",
       "      <th></th>\n",
       "      <th>row.names</th>\n",
       "      <th>sbp</th>\n",
       "      <th>tobacco</th>\n",
       "      <th>ldl</th>\n",
       "      <th>adiposity</th>\n",
       "      <th>famhist</th>\n",
       "      <th>typea</th>\n",
       "      <th>obesity</th>\n",
       "      <th>alcohol</th>\n",
       "      <th>age</th>\n",
       "      <th>chd</th>\n",
       "    </tr>\n",
       "  </thead>\n",
       "  <tbody>\n",
       "    <tr>\n",
       "      <th>0</th>\n",
       "      <td>1</td>\n",
       "      <td>160</td>\n",
       "      <td>12.00</td>\n",
       "      <td>5.73</td>\n",
       "      <td>23.11</td>\n",
       "      <td>Present</td>\n",
       "      <td>49</td>\n",
       "      <td>25.30</td>\n",
       "      <td>97.20</td>\n",
       "      <td>52</td>\n",
       "      <td>1</td>\n",
       "    </tr>\n",
       "    <tr>\n",
       "      <th>1</th>\n",
       "      <td>2</td>\n",
       "      <td>144</td>\n",
       "      <td>0.01</td>\n",
       "      <td>4.41</td>\n",
       "      <td>28.61</td>\n",
       "      <td>Absent</td>\n",
       "      <td>55</td>\n",
       "      <td>28.87</td>\n",
       "      <td>2.06</td>\n",
       "      <td>63</td>\n",
       "      <td>1</td>\n",
       "    </tr>\n",
       "    <tr>\n",
       "      <th>2</th>\n",
       "      <td>3</td>\n",
       "      <td>118</td>\n",
       "      <td>0.08</td>\n",
       "      <td>3.48</td>\n",
       "      <td>32.28</td>\n",
       "      <td>Present</td>\n",
       "      <td>52</td>\n",
       "      <td>29.14</td>\n",
       "      <td>3.81</td>\n",
       "      <td>46</td>\n",
       "      <td>0</td>\n",
       "    </tr>\n",
       "    <tr>\n",
       "      <th>3</th>\n",
       "      <td>4</td>\n",
       "      <td>170</td>\n",
       "      <td>7.50</td>\n",
       "      <td>6.41</td>\n",
       "      <td>38.03</td>\n",
       "      <td>Present</td>\n",
       "      <td>51</td>\n",
       "      <td>31.99</td>\n",
       "      <td>24.26</td>\n",
       "      <td>58</td>\n",
       "      <td>1</td>\n",
       "    </tr>\n",
       "    <tr>\n",
       "      <th>4</th>\n",
       "      <td>5</td>\n",
       "      <td>134</td>\n",
       "      <td>13.60</td>\n",
       "      <td>3.50</td>\n",
       "      <td>27.78</td>\n",
       "      <td>Present</td>\n",
       "      <td>60</td>\n",
       "      <td>25.99</td>\n",
       "      <td>57.34</td>\n",
       "      <td>49</td>\n",
       "      <td>1</td>\n",
       "    </tr>\n",
       "    <tr>\n",
       "      <th>5</th>\n",
       "      <td>6</td>\n",
       "      <td>132</td>\n",
       "      <td>6.20</td>\n",
       "      <td>6.47</td>\n",
       "      <td>36.21</td>\n",
       "      <td>Present</td>\n",
       "      <td>62</td>\n",
       "      <td>30.77</td>\n",
       "      <td>14.14</td>\n",
       "      <td>45</td>\n",
       "      <td>0</td>\n",
       "    </tr>\n",
       "    <tr>\n",
       "      <th>6</th>\n",
       "      <td>7</td>\n",
       "      <td>142</td>\n",
       "      <td>4.05</td>\n",
       "      <td>3.38</td>\n",
       "      <td>16.20</td>\n",
       "      <td>Absent</td>\n",
       "      <td>59</td>\n",
       "      <td>20.81</td>\n",
       "      <td>2.62</td>\n",
       "      <td>38</td>\n",
       "      <td>0</td>\n",
       "    </tr>\n",
       "    <tr>\n",
       "      <th>7</th>\n",
       "      <td>8</td>\n",
       "      <td>114</td>\n",
       "      <td>4.08</td>\n",
       "      <td>4.59</td>\n",
       "      <td>14.60</td>\n",
       "      <td>Present</td>\n",
       "      <td>62</td>\n",
       "      <td>23.11</td>\n",
       "      <td>6.72</td>\n",
       "      <td>58</td>\n",
       "      <td>1</td>\n",
       "    </tr>\n",
       "    <tr>\n",
       "      <th>8</th>\n",
       "      <td>9</td>\n",
       "      <td>114</td>\n",
       "      <td>0.00</td>\n",
       "      <td>3.83</td>\n",
       "      <td>19.40</td>\n",
       "      <td>Present</td>\n",
       "      <td>49</td>\n",
       "      <td>24.86</td>\n",
       "      <td>2.49</td>\n",
       "      <td>29</td>\n",
       "      <td>0</td>\n",
       "    </tr>\n",
       "    <tr>\n",
       "      <th>9</th>\n",
       "      <td>10</td>\n",
       "      <td>132</td>\n",
       "      <td>0.00</td>\n",
       "      <td>5.80</td>\n",
       "      <td>30.96</td>\n",
       "      <td>Present</td>\n",
       "      <td>69</td>\n",
       "      <td>30.11</td>\n",
       "      <td>0.00</td>\n",
       "      <td>53</td>\n",
       "      <td>1</td>\n",
       "    </tr>\n",
       "  </tbody>\n",
       "</table>\n",
       "</div>"
      ],
      "text/plain": [
       "   row.names  sbp  tobacco   ldl  adiposity  famhist  typea  obesity  alcohol  \\\n",
       "0          1  160    12.00  5.73      23.11  Present     49    25.30    97.20   \n",
       "1          2  144     0.01  4.41      28.61   Absent     55    28.87     2.06   \n",
       "2          3  118     0.08  3.48      32.28  Present     52    29.14     3.81   \n",
       "3          4  170     7.50  6.41      38.03  Present     51    31.99    24.26   \n",
       "4          5  134    13.60  3.50      27.78  Present     60    25.99    57.34   \n",
       "5          6  132     6.20  6.47      36.21  Present     62    30.77    14.14   \n",
       "6          7  142     4.05  3.38      16.20   Absent     59    20.81     2.62   \n",
       "7          8  114     4.08  4.59      14.60  Present     62    23.11     6.72   \n",
       "8          9  114     0.00  3.83      19.40  Present     49    24.86     2.49   \n",
       "9         10  132     0.00  5.80      30.96  Present     69    30.11     0.00   \n",
       "\n",
       "   age  chd  \n",
       "0   52    1  \n",
       "1   63    1  \n",
       "2   46    0  \n",
       "3   58    1  \n",
       "4   49    1  \n",
       "5   45    0  \n",
       "6   38    0  \n",
       "7   58    1  \n",
       "8   29    0  \n",
       "9   53    1  "
      ]
     },
     "execution_count": 38,
     "metadata": {},
     "output_type": "execute_result"
    }
   ],
   "source": [
    "SAHeart_df.head(10)\n"
   ]
  },
  {
   "cell_type": "code",
   "execution_count": 39,
   "metadata": {},
   "outputs": [
    {
     "data": {
      "text/html": [
       "<div>\n",
       "<style scoped>\n",
       "    .dataframe tbody tr th:only-of-type {\n",
       "        vertical-align: middle;\n",
       "    }\n",
       "\n",
       "    .dataframe tbody tr th {\n",
       "        vertical-align: top;\n",
       "    }\n",
       "\n",
       "    .dataframe thead th {\n",
       "        text-align: right;\n",
       "    }\n",
       "</style>\n",
       "<table border=\"1\" class=\"dataframe\">\n",
       "  <thead>\n",
       "    <tr style=\"text-align: right;\">\n",
       "      <th></th>\n",
       "      <th>row.names</th>\n",
       "      <th>sbp</th>\n",
       "      <th>tobacco</th>\n",
       "      <th>ldl</th>\n",
       "      <th>adiposity</th>\n",
       "      <th>famhist</th>\n",
       "      <th>typea</th>\n",
       "      <th>obesity</th>\n",
       "      <th>alcohol</th>\n",
       "      <th>age</th>\n",
       "      <th>chd</th>\n",
       "    </tr>\n",
       "  </thead>\n",
       "  <tbody>\n",
       "    <tr>\n",
       "      <th>452</th>\n",
       "      <td>454</td>\n",
       "      <td>154</td>\n",
       "      <td>5.53</td>\n",
       "      <td>3.20</td>\n",
       "      <td>28.81</td>\n",
       "      <td>Present</td>\n",
       "      <td>61</td>\n",
       "      <td>26.15</td>\n",
       "      <td>42.79</td>\n",
       "      <td>42</td>\n",
       "      <td>0</td>\n",
       "    </tr>\n",
       "    <tr>\n",
       "      <th>453</th>\n",
       "      <td>455</td>\n",
       "      <td>124</td>\n",
       "      <td>1.60</td>\n",
       "      <td>7.22</td>\n",
       "      <td>39.68</td>\n",
       "      <td>Present</td>\n",
       "      <td>36</td>\n",
       "      <td>31.50</td>\n",
       "      <td>0.00</td>\n",
       "      <td>51</td>\n",
       "      <td>1</td>\n",
       "    </tr>\n",
       "    <tr>\n",
       "      <th>454</th>\n",
       "      <td>456</td>\n",
       "      <td>146</td>\n",
       "      <td>0.64</td>\n",
       "      <td>4.82</td>\n",
       "      <td>28.02</td>\n",
       "      <td>Absent</td>\n",
       "      <td>60</td>\n",
       "      <td>28.11</td>\n",
       "      <td>8.23</td>\n",
       "      <td>39</td>\n",
       "      <td>1</td>\n",
       "    </tr>\n",
       "    <tr>\n",
       "      <th>455</th>\n",
       "      <td>457</td>\n",
       "      <td>128</td>\n",
       "      <td>2.24</td>\n",
       "      <td>2.83</td>\n",
       "      <td>26.48</td>\n",
       "      <td>Absent</td>\n",
       "      <td>48</td>\n",
       "      <td>23.96</td>\n",
       "      <td>47.42</td>\n",
       "      <td>27</td>\n",
       "      <td>1</td>\n",
       "    </tr>\n",
       "    <tr>\n",
       "      <th>456</th>\n",
       "      <td>458</td>\n",
       "      <td>170</td>\n",
       "      <td>0.40</td>\n",
       "      <td>4.11</td>\n",
       "      <td>42.06</td>\n",
       "      <td>Present</td>\n",
       "      <td>56</td>\n",
       "      <td>33.10</td>\n",
       "      <td>2.06</td>\n",
       "      <td>57</td>\n",
       "      <td>0</td>\n",
       "    </tr>\n",
       "    <tr>\n",
       "      <th>457</th>\n",
       "      <td>459</td>\n",
       "      <td>214</td>\n",
       "      <td>0.40</td>\n",
       "      <td>5.98</td>\n",
       "      <td>31.72</td>\n",
       "      <td>Absent</td>\n",
       "      <td>64</td>\n",
       "      <td>28.45</td>\n",
       "      <td>0.00</td>\n",
       "      <td>58</td>\n",
       "      <td>0</td>\n",
       "    </tr>\n",
       "    <tr>\n",
       "      <th>458</th>\n",
       "      <td>460</td>\n",
       "      <td>182</td>\n",
       "      <td>4.20</td>\n",
       "      <td>4.41</td>\n",
       "      <td>32.10</td>\n",
       "      <td>Absent</td>\n",
       "      <td>52</td>\n",
       "      <td>28.61</td>\n",
       "      <td>18.72</td>\n",
       "      <td>52</td>\n",
       "      <td>1</td>\n",
       "    </tr>\n",
       "    <tr>\n",
       "      <th>459</th>\n",
       "      <td>461</td>\n",
       "      <td>108</td>\n",
       "      <td>3.00</td>\n",
       "      <td>1.59</td>\n",
       "      <td>15.23</td>\n",
       "      <td>Absent</td>\n",
       "      <td>40</td>\n",
       "      <td>20.09</td>\n",
       "      <td>26.64</td>\n",
       "      <td>55</td>\n",
       "      <td>0</td>\n",
       "    </tr>\n",
       "    <tr>\n",
       "      <th>460</th>\n",
       "      <td>462</td>\n",
       "      <td>118</td>\n",
       "      <td>5.40</td>\n",
       "      <td>11.61</td>\n",
       "      <td>30.79</td>\n",
       "      <td>Absent</td>\n",
       "      <td>64</td>\n",
       "      <td>27.35</td>\n",
       "      <td>23.97</td>\n",
       "      <td>40</td>\n",
       "      <td>0</td>\n",
       "    </tr>\n",
       "    <tr>\n",
       "      <th>461</th>\n",
       "      <td>463</td>\n",
       "      <td>132</td>\n",
       "      <td>0.00</td>\n",
       "      <td>4.82</td>\n",
       "      <td>33.41</td>\n",
       "      <td>Present</td>\n",
       "      <td>62</td>\n",
       "      <td>14.70</td>\n",
       "      <td>0.00</td>\n",
       "      <td>46</td>\n",
       "      <td>1</td>\n",
       "    </tr>\n",
       "  </tbody>\n",
       "</table>\n",
       "</div>"
      ],
      "text/plain": [
       "     row.names  sbp  tobacco    ldl  adiposity  famhist  typea  obesity  \\\n",
       "452        454  154     5.53   3.20      28.81  Present     61    26.15   \n",
       "453        455  124     1.60   7.22      39.68  Present     36    31.50   \n",
       "454        456  146     0.64   4.82      28.02   Absent     60    28.11   \n",
       "455        457  128     2.24   2.83      26.48   Absent     48    23.96   \n",
       "456        458  170     0.40   4.11      42.06  Present     56    33.10   \n",
       "457        459  214     0.40   5.98      31.72   Absent     64    28.45   \n",
       "458        460  182     4.20   4.41      32.10   Absent     52    28.61   \n",
       "459        461  108     3.00   1.59      15.23   Absent     40    20.09   \n",
       "460        462  118     5.40  11.61      30.79   Absent     64    27.35   \n",
       "461        463  132     0.00   4.82      33.41  Present     62    14.70   \n",
       "\n",
       "     alcohol  age  chd  \n",
       "452    42.79   42    0  \n",
       "453     0.00   51    1  \n",
       "454     8.23   39    1  \n",
       "455    47.42   27    1  \n",
       "456     2.06   57    0  \n",
       "457     0.00   58    0  \n",
       "458    18.72   52    1  \n",
       "459    26.64   55    0  \n",
       "460    23.97   40    0  \n",
       "461     0.00   46    1  "
      ]
     },
     "execution_count": 39,
     "metadata": {},
     "output_type": "execute_result"
    }
   ],
   "source": [
    "SAHeart_df.tail(10)"
   ]
  },
  {
   "cell_type": "markdown",
   "metadata": {},
   "source": [
    "## 3 - Process variables ##"
   ]
  },
  {
   "cell_type": "markdown",
   "metadata": {},
   "source": [
    "### Convert 'famhis' to dummies"
   ]
  },
  {
   "cell_type": "code",
   "execution_count": 40,
   "metadata": {},
   "outputs": [],
   "source": [
    "SAHeart_df= SAHeart_df.join(pd.get_dummies(SAHeart_df[\"famhist\"]))\n",
    "SAHeart_df = SAHeart_df.drop(labels=['famhist', 'Present'],axis=1)\n",
    "# If famhist = 'Absent', then famhist = 1, otherwise famhist = 0."
   ]
  },
  {
   "cell_type": "code",
   "execution_count": 41,
   "metadata": {},
   "outputs": [
    {
     "data": {
      "text/html": [
       "<div>\n",
       "<style scoped>\n",
       "    .dataframe tbody tr th:only-of-type {\n",
       "        vertical-align: middle;\n",
       "    }\n",
       "\n",
       "    .dataframe tbody tr th {\n",
       "        vertical-align: top;\n",
       "    }\n",
       "\n",
       "    .dataframe thead th {\n",
       "        text-align: right;\n",
       "    }\n",
       "</style>\n",
       "<table border=\"1\" class=\"dataframe\">\n",
       "  <thead>\n",
       "    <tr style=\"text-align: right;\">\n",
       "      <th></th>\n",
       "      <th>row.names</th>\n",
       "      <th>sbp</th>\n",
       "      <th>tobacco</th>\n",
       "      <th>ldl</th>\n",
       "      <th>adiposity</th>\n",
       "      <th>typea</th>\n",
       "      <th>obesity</th>\n",
       "      <th>alcohol</th>\n",
       "      <th>age</th>\n",
       "      <th>chd</th>\n",
       "      <th>Absent</th>\n",
       "    </tr>\n",
       "  </thead>\n",
       "  <tbody>\n",
       "    <tr>\n",
       "      <th>457</th>\n",
       "      <td>459</td>\n",
       "      <td>214</td>\n",
       "      <td>0.4</td>\n",
       "      <td>5.98</td>\n",
       "      <td>31.72</td>\n",
       "      <td>64</td>\n",
       "      <td>28.45</td>\n",
       "      <td>0.00</td>\n",
       "      <td>58</td>\n",
       "      <td>0</td>\n",
       "      <td>1</td>\n",
       "    </tr>\n",
       "    <tr>\n",
       "      <th>458</th>\n",
       "      <td>460</td>\n",
       "      <td>182</td>\n",
       "      <td>4.2</td>\n",
       "      <td>4.41</td>\n",
       "      <td>32.10</td>\n",
       "      <td>52</td>\n",
       "      <td>28.61</td>\n",
       "      <td>18.72</td>\n",
       "      <td>52</td>\n",
       "      <td>1</td>\n",
       "      <td>1</td>\n",
       "    </tr>\n",
       "    <tr>\n",
       "      <th>459</th>\n",
       "      <td>461</td>\n",
       "      <td>108</td>\n",
       "      <td>3.0</td>\n",
       "      <td>1.59</td>\n",
       "      <td>15.23</td>\n",
       "      <td>40</td>\n",
       "      <td>20.09</td>\n",
       "      <td>26.64</td>\n",
       "      <td>55</td>\n",
       "      <td>0</td>\n",
       "      <td>1</td>\n",
       "    </tr>\n",
       "    <tr>\n",
       "      <th>460</th>\n",
       "      <td>462</td>\n",
       "      <td>118</td>\n",
       "      <td>5.4</td>\n",
       "      <td>11.61</td>\n",
       "      <td>30.79</td>\n",
       "      <td>64</td>\n",
       "      <td>27.35</td>\n",
       "      <td>23.97</td>\n",
       "      <td>40</td>\n",
       "      <td>0</td>\n",
       "      <td>1</td>\n",
       "    </tr>\n",
       "    <tr>\n",
       "      <th>461</th>\n",
       "      <td>463</td>\n",
       "      <td>132</td>\n",
       "      <td>0.0</td>\n",
       "      <td>4.82</td>\n",
       "      <td>33.41</td>\n",
       "      <td>62</td>\n",
       "      <td>14.70</td>\n",
       "      <td>0.00</td>\n",
       "      <td>46</td>\n",
       "      <td>1</td>\n",
       "      <td>0</td>\n",
       "    </tr>\n",
       "  </tbody>\n",
       "</table>\n",
       "</div>"
      ],
      "text/plain": [
       "     row.names  sbp  tobacco    ldl  adiposity  typea  obesity  alcohol  age  \\\n",
       "457        459  214      0.4   5.98      31.72     64    28.45     0.00   58   \n",
       "458        460  182      4.2   4.41      32.10     52    28.61    18.72   52   \n",
       "459        461  108      3.0   1.59      15.23     40    20.09    26.64   55   \n",
       "460        462  118      5.4  11.61      30.79     64    27.35    23.97   40   \n",
       "461        463  132      0.0   4.82      33.41     62    14.70     0.00   46   \n",
       "\n",
       "     chd  Absent  \n",
       "457    0       1  \n",
       "458    1       1  \n",
       "459    0       1  \n",
       "460    0       1  \n",
       "461    1       0  "
      ]
     },
     "execution_count": 41,
     "metadata": {},
     "output_type": "execute_result"
    }
   ],
   "source": [
    "SAHeart_df.tail()"
   ]
  },
  {
   "cell_type": "code",
   "execution_count": 42,
   "metadata": {},
   "outputs": [],
   "source": [
    "# Rename the columns label. Change 'Absent' to 'famhist' dummy variable.\n",
    "SAHeart_df.rename(columns = {'Absent' : 'famhist'}, inplace = True)"
   ]
  },
  {
   "cell_type": "code",
   "execution_count": 43,
   "metadata": {},
   "outputs": [
    {
     "data": {
      "text/html": [
       "<div>\n",
       "<style scoped>\n",
       "    .dataframe tbody tr th:only-of-type {\n",
       "        vertical-align: middle;\n",
       "    }\n",
       "\n",
       "    .dataframe tbody tr th {\n",
       "        vertical-align: top;\n",
       "    }\n",
       "\n",
       "    .dataframe thead th {\n",
       "        text-align: right;\n",
       "    }\n",
       "</style>\n",
       "<table border=\"1\" class=\"dataframe\">\n",
       "  <thead>\n",
       "    <tr style=\"text-align: right;\">\n",
       "      <th></th>\n",
       "      <th>row.names</th>\n",
       "      <th>sbp</th>\n",
       "      <th>tobacco</th>\n",
       "      <th>ldl</th>\n",
       "      <th>adiposity</th>\n",
       "      <th>typea</th>\n",
       "      <th>obesity</th>\n",
       "      <th>alcohol</th>\n",
       "      <th>age</th>\n",
       "      <th>chd</th>\n",
       "      <th>famhist</th>\n",
       "    </tr>\n",
       "  </thead>\n",
       "  <tbody>\n",
       "    <tr>\n",
       "      <th>0</th>\n",
       "      <td>1</td>\n",
       "      <td>160</td>\n",
       "      <td>12.00</td>\n",
       "      <td>5.73</td>\n",
       "      <td>23.11</td>\n",
       "      <td>49</td>\n",
       "      <td>25.30</td>\n",
       "      <td>97.20</td>\n",
       "      <td>52</td>\n",
       "      <td>1</td>\n",
       "      <td>0</td>\n",
       "    </tr>\n",
       "    <tr>\n",
       "      <th>1</th>\n",
       "      <td>2</td>\n",
       "      <td>144</td>\n",
       "      <td>0.01</td>\n",
       "      <td>4.41</td>\n",
       "      <td>28.61</td>\n",
       "      <td>55</td>\n",
       "      <td>28.87</td>\n",
       "      <td>2.06</td>\n",
       "      <td>63</td>\n",
       "      <td>1</td>\n",
       "      <td>1</td>\n",
       "    </tr>\n",
       "    <tr>\n",
       "      <th>2</th>\n",
       "      <td>3</td>\n",
       "      <td>118</td>\n",
       "      <td>0.08</td>\n",
       "      <td>3.48</td>\n",
       "      <td>32.28</td>\n",
       "      <td>52</td>\n",
       "      <td>29.14</td>\n",
       "      <td>3.81</td>\n",
       "      <td>46</td>\n",
       "      <td>0</td>\n",
       "      <td>0</td>\n",
       "    </tr>\n",
       "    <tr>\n",
       "      <th>3</th>\n",
       "      <td>4</td>\n",
       "      <td>170</td>\n",
       "      <td>7.50</td>\n",
       "      <td>6.41</td>\n",
       "      <td>38.03</td>\n",
       "      <td>51</td>\n",
       "      <td>31.99</td>\n",
       "      <td>24.26</td>\n",
       "      <td>58</td>\n",
       "      <td>1</td>\n",
       "      <td>0</td>\n",
       "    </tr>\n",
       "    <tr>\n",
       "      <th>4</th>\n",
       "      <td>5</td>\n",
       "      <td>134</td>\n",
       "      <td>13.60</td>\n",
       "      <td>3.50</td>\n",
       "      <td>27.78</td>\n",
       "      <td>60</td>\n",
       "      <td>25.99</td>\n",
       "      <td>57.34</td>\n",
       "      <td>49</td>\n",
       "      <td>1</td>\n",
       "      <td>0</td>\n",
       "    </tr>\n",
       "    <tr>\n",
       "      <th>5</th>\n",
       "      <td>6</td>\n",
       "      <td>132</td>\n",
       "      <td>6.20</td>\n",
       "      <td>6.47</td>\n",
       "      <td>36.21</td>\n",
       "      <td>62</td>\n",
       "      <td>30.77</td>\n",
       "      <td>14.14</td>\n",
       "      <td>45</td>\n",
       "      <td>0</td>\n",
       "      <td>0</td>\n",
       "    </tr>\n",
       "    <tr>\n",
       "      <th>6</th>\n",
       "      <td>7</td>\n",
       "      <td>142</td>\n",
       "      <td>4.05</td>\n",
       "      <td>3.38</td>\n",
       "      <td>16.20</td>\n",
       "      <td>59</td>\n",
       "      <td>20.81</td>\n",
       "      <td>2.62</td>\n",
       "      <td>38</td>\n",
       "      <td>0</td>\n",
       "      <td>1</td>\n",
       "    </tr>\n",
       "    <tr>\n",
       "      <th>7</th>\n",
       "      <td>8</td>\n",
       "      <td>114</td>\n",
       "      <td>4.08</td>\n",
       "      <td>4.59</td>\n",
       "      <td>14.60</td>\n",
       "      <td>62</td>\n",
       "      <td>23.11</td>\n",
       "      <td>6.72</td>\n",
       "      <td>58</td>\n",
       "      <td>1</td>\n",
       "      <td>0</td>\n",
       "    </tr>\n",
       "    <tr>\n",
       "      <th>8</th>\n",
       "      <td>9</td>\n",
       "      <td>114</td>\n",
       "      <td>0.00</td>\n",
       "      <td>3.83</td>\n",
       "      <td>19.40</td>\n",
       "      <td>49</td>\n",
       "      <td>24.86</td>\n",
       "      <td>2.49</td>\n",
       "      <td>29</td>\n",
       "      <td>0</td>\n",
       "      <td>0</td>\n",
       "    </tr>\n",
       "    <tr>\n",
       "      <th>9</th>\n",
       "      <td>10</td>\n",
       "      <td>132</td>\n",
       "      <td>0.00</td>\n",
       "      <td>5.80</td>\n",
       "      <td>30.96</td>\n",
       "      <td>69</td>\n",
       "      <td>30.11</td>\n",
       "      <td>0.00</td>\n",
       "      <td>53</td>\n",
       "      <td>1</td>\n",
       "      <td>0</td>\n",
       "    </tr>\n",
       "  </tbody>\n",
       "</table>\n",
       "</div>"
      ],
      "text/plain": [
       "   row.names  sbp  tobacco   ldl  adiposity  typea  obesity  alcohol  age  \\\n",
       "0          1  160    12.00  5.73      23.11     49    25.30    97.20   52   \n",
       "1          2  144     0.01  4.41      28.61     55    28.87     2.06   63   \n",
       "2          3  118     0.08  3.48      32.28     52    29.14     3.81   46   \n",
       "3          4  170     7.50  6.41      38.03     51    31.99    24.26   58   \n",
       "4          5  134    13.60  3.50      27.78     60    25.99    57.34   49   \n",
       "5          6  132     6.20  6.47      36.21     62    30.77    14.14   45   \n",
       "6          7  142     4.05  3.38      16.20     59    20.81     2.62   38   \n",
       "7          8  114     4.08  4.59      14.60     62    23.11     6.72   58   \n",
       "8          9  114     0.00  3.83      19.40     49    24.86     2.49   29   \n",
       "9         10  132     0.00  5.80      30.96     69    30.11     0.00   53   \n",
       "\n",
       "   chd  famhist  \n",
       "0    1        0  \n",
       "1    1        1  \n",
       "2    0        0  \n",
       "3    1        0  \n",
       "4    1        0  \n",
       "5    0        0  \n",
       "6    0        1  \n",
       "7    1        0  \n",
       "8    0        0  \n",
       "9    1        0  "
      ]
     },
     "execution_count": 43,
     "metadata": {},
     "output_type": "execute_result"
    }
   ],
   "source": [
    "SAHeart_df.head(10)\n"
   ]
  },
  {
   "cell_type": "code",
   "execution_count": 44,
   "metadata": {},
   "outputs": [],
   "source": [
    "X = (SAHeart_df[['famhist','sbp','tobacco','ldl','adiposity','typea','obesity','alcohol','age']])"
   ]
  },
  {
   "cell_type": "code",
   "execution_count": 45,
   "metadata": {},
   "outputs": [
    {
     "data": {
      "text/html": [
       "<div>\n",
       "<style scoped>\n",
       "    .dataframe tbody tr th:only-of-type {\n",
       "        vertical-align: middle;\n",
       "    }\n",
       "\n",
       "    .dataframe tbody tr th {\n",
       "        vertical-align: top;\n",
       "    }\n",
       "\n",
       "    .dataframe thead th {\n",
       "        text-align: right;\n",
       "    }\n",
       "</style>\n",
       "<table border=\"1\" class=\"dataframe\">\n",
       "  <thead>\n",
       "    <tr style=\"text-align: right;\">\n",
       "      <th></th>\n",
       "      <th>famhist</th>\n",
       "      <th>sbp</th>\n",
       "      <th>tobacco</th>\n",
       "      <th>ldl</th>\n",
       "      <th>adiposity</th>\n",
       "      <th>typea</th>\n",
       "      <th>obesity</th>\n",
       "      <th>alcohol</th>\n",
       "      <th>age</th>\n",
       "    </tr>\n",
       "  </thead>\n",
       "  <tbody>\n",
       "    <tr>\n",
       "      <th>0</th>\n",
       "      <td>0</td>\n",
       "      <td>160</td>\n",
       "      <td>12.00</td>\n",
       "      <td>5.73</td>\n",
       "      <td>23.11</td>\n",
       "      <td>49</td>\n",
       "      <td>25.30</td>\n",
       "      <td>97.20</td>\n",
       "      <td>52</td>\n",
       "    </tr>\n",
       "    <tr>\n",
       "      <th>1</th>\n",
       "      <td>1</td>\n",
       "      <td>144</td>\n",
       "      <td>0.01</td>\n",
       "      <td>4.41</td>\n",
       "      <td>28.61</td>\n",
       "      <td>55</td>\n",
       "      <td>28.87</td>\n",
       "      <td>2.06</td>\n",
       "      <td>63</td>\n",
       "    </tr>\n",
       "    <tr>\n",
       "      <th>2</th>\n",
       "      <td>0</td>\n",
       "      <td>118</td>\n",
       "      <td>0.08</td>\n",
       "      <td>3.48</td>\n",
       "      <td>32.28</td>\n",
       "      <td>52</td>\n",
       "      <td>29.14</td>\n",
       "      <td>3.81</td>\n",
       "      <td>46</td>\n",
       "    </tr>\n",
       "    <tr>\n",
       "      <th>3</th>\n",
       "      <td>0</td>\n",
       "      <td>170</td>\n",
       "      <td>7.50</td>\n",
       "      <td>6.41</td>\n",
       "      <td>38.03</td>\n",
       "      <td>51</td>\n",
       "      <td>31.99</td>\n",
       "      <td>24.26</td>\n",
       "      <td>58</td>\n",
       "    </tr>\n",
       "    <tr>\n",
       "      <th>4</th>\n",
       "      <td>0</td>\n",
       "      <td>134</td>\n",
       "      <td>13.60</td>\n",
       "      <td>3.50</td>\n",
       "      <td>27.78</td>\n",
       "      <td>60</td>\n",
       "      <td>25.99</td>\n",
       "      <td>57.34</td>\n",
       "      <td>49</td>\n",
       "    </tr>\n",
       "  </tbody>\n",
       "</table>\n",
       "</div>"
      ],
      "text/plain": [
       "   famhist  sbp  tobacco   ldl  adiposity  typea  obesity  alcohol  age\n",
       "0        0  160    12.00  5.73      23.11     49    25.30    97.20   52\n",
       "1        1  144     0.01  4.41      28.61     55    28.87     2.06   63\n",
       "2        0  118     0.08  3.48      32.28     52    29.14     3.81   46\n",
       "3        0  170     7.50  6.41      38.03     51    31.99    24.26   58\n",
       "4        0  134    13.60  3.50      27.78     60    25.99    57.34   49"
      ]
     },
     "execution_count": 45,
     "metadata": {},
     "output_type": "execute_result"
    }
   ],
   "source": [
    "X[0:5]\n"
   ]
  },
  {
   "cell_type": "code",
   "execution_count": 46,
   "metadata": {},
   "outputs": [],
   "source": [
    "Y = np.array(SAHeart_df[['chd']])\n",
    "#Y = (SAHeart_df[['chd']])\n",
    "#print(len(Y))"
   ]
  },
  {
   "cell_type": "code",
   "execution_count": 47,
   "metadata": {},
   "outputs": [
    {
     "data": {
      "text/plain": [
       "array([[1],\n",
       "       [1],\n",
       "       [0],\n",
       "       [1],\n",
       "       [1]])"
      ]
     },
     "execution_count": 47,
     "metadata": {},
     "output_type": "execute_result"
    }
   ],
   "source": [
    "Y[0:5]"
   ]
  },
  {
   "cell_type": "code",
   "execution_count": 48,
   "metadata": {},
   "outputs": [
    {
     "data": {
      "text/html": [
       "<div>\n",
       "<style scoped>\n",
       "    .dataframe tbody tr th:only-of-type {\n",
       "        vertical-align: middle;\n",
       "    }\n",
       "\n",
       "    .dataframe tbody tr th {\n",
       "        vertical-align: top;\n",
       "    }\n",
       "\n",
       "    .dataframe thead th {\n",
       "        text-align: right;\n",
       "    }\n",
       "</style>\n",
       "<table border=\"1\" class=\"dataframe\">\n",
       "  <thead>\n",
       "    <tr style=\"text-align: right;\">\n",
       "      <th></th>\n",
       "      <th>sbp</th>\n",
       "      <th>tobacco</th>\n",
       "      <th>ldl</th>\n",
       "      <th>adiposity</th>\n",
       "      <th>typea</th>\n",
       "      <th>obesity</th>\n",
       "      <th>alcohol</th>\n",
       "      <th>age</th>\n",
       "    </tr>\n",
       "  </thead>\n",
       "  <tbody>\n",
       "    <tr>\n",
       "      <th>0</th>\n",
       "      <td>160</td>\n",
       "      <td>12.00</td>\n",
       "      <td>5.73</td>\n",
       "      <td>23.11</td>\n",
       "      <td>49</td>\n",
       "      <td>25.30</td>\n",
       "      <td>97.20</td>\n",
       "      <td>52</td>\n",
       "    </tr>\n",
       "    <tr>\n",
       "      <th>1</th>\n",
       "      <td>144</td>\n",
       "      <td>0.01</td>\n",
       "      <td>4.41</td>\n",
       "      <td>28.61</td>\n",
       "      <td>55</td>\n",
       "      <td>28.87</td>\n",
       "      <td>2.06</td>\n",
       "      <td>63</td>\n",
       "    </tr>\n",
       "    <tr>\n",
       "      <th>2</th>\n",
       "      <td>118</td>\n",
       "      <td>0.08</td>\n",
       "      <td>3.48</td>\n",
       "      <td>32.28</td>\n",
       "      <td>52</td>\n",
       "      <td>29.14</td>\n",
       "      <td>3.81</td>\n",
       "      <td>46</td>\n",
       "    </tr>\n",
       "    <tr>\n",
       "      <th>3</th>\n",
       "      <td>170</td>\n",
       "      <td>7.50</td>\n",
       "      <td>6.41</td>\n",
       "      <td>38.03</td>\n",
       "      <td>51</td>\n",
       "      <td>31.99</td>\n",
       "      <td>24.26</td>\n",
       "      <td>58</td>\n",
       "    </tr>\n",
       "    <tr>\n",
       "      <th>4</th>\n",
       "      <td>134</td>\n",
       "      <td>13.60</td>\n",
       "      <td>3.50</td>\n",
       "      <td>27.78</td>\n",
       "      <td>60</td>\n",
       "      <td>25.99</td>\n",
       "      <td>57.34</td>\n",
       "      <td>49</td>\n",
       "    </tr>\n",
       "    <tr>\n",
       "      <th>5</th>\n",
       "      <td>132</td>\n",
       "      <td>6.20</td>\n",
       "      <td>6.47</td>\n",
       "      <td>36.21</td>\n",
       "      <td>62</td>\n",
       "      <td>30.77</td>\n",
       "      <td>14.14</td>\n",
       "      <td>45</td>\n",
       "    </tr>\n",
       "    <tr>\n",
       "      <th>6</th>\n",
       "      <td>142</td>\n",
       "      <td>4.05</td>\n",
       "      <td>3.38</td>\n",
       "      <td>16.20</td>\n",
       "      <td>59</td>\n",
       "      <td>20.81</td>\n",
       "      <td>2.62</td>\n",
       "      <td>38</td>\n",
       "    </tr>\n",
       "    <tr>\n",
       "      <th>7</th>\n",
       "      <td>114</td>\n",
       "      <td>4.08</td>\n",
       "      <td>4.59</td>\n",
       "      <td>14.60</td>\n",
       "      <td>62</td>\n",
       "      <td>23.11</td>\n",
       "      <td>6.72</td>\n",
       "      <td>58</td>\n",
       "    </tr>\n",
       "    <tr>\n",
       "      <th>8</th>\n",
       "      <td>114</td>\n",
       "      <td>0.00</td>\n",
       "      <td>3.83</td>\n",
       "      <td>19.40</td>\n",
       "      <td>49</td>\n",
       "      <td>24.86</td>\n",
       "      <td>2.49</td>\n",
       "      <td>29</td>\n",
       "    </tr>\n",
       "    <tr>\n",
       "      <th>9</th>\n",
       "      <td>132</td>\n",
       "      <td>0.00</td>\n",
       "      <td>5.80</td>\n",
       "      <td>30.96</td>\n",
       "      <td>69</td>\n",
       "      <td>30.11</td>\n",
       "      <td>0.00</td>\n",
       "      <td>53</td>\n",
       "    </tr>\n",
       "  </tbody>\n",
       "</table>\n",
       "</div>"
      ],
      "text/plain": [
       "   sbp  tobacco   ldl  adiposity  typea  obesity  alcohol  age\n",
       "0  160    12.00  5.73      23.11     49    25.30    97.20   52\n",
       "1  144     0.01  4.41      28.61     55    28.87     2.06   63\n",
       "2  118     0.08  3.48      32.28     52    29.14     3.81   46\n",
       "3  170     7.50  6.41      38.03     51    31.99    24.26   58\n",
       "4  134    13.60  3.50      27.78     60    25.99    57.34   49\n",
       "5  132     6.20  6.47      36.21     62    30.77    14.14   45\n",
       "6  142     4.05  3.38      16.20     59    20.81     2.62   38\n",
       "7  114     4.08  4.59      14.60     62    23.11     6.72   58\n",
       "8  114     0.00  3.83      19.40     49    24.86     2.49   29\n",
       "9  132     0.00  5.80      30.96     69    30.11     0.00   53"
      ]
     },
     "execution_count": 48,
     "metadata": {},
     "output_type": "execute_result"
    }
   ],
   "source": [
    "cols_to_Normal = ['sbp','tobacco','ldl','adiposity','typea','obesity','alcohol','age']\n",
    "\n",
    "X_new= X[cols_to_Normal]\n",
    "X_new.head(10)"
   ]
  },
  {
   "cell_type": "markdown",
   "metadata": {},
   "source": [
    "#### Normalise the dimension"
   ]
  },
  {
   "cell_type": "code",
   "execution_count": 49,
   "metadata": {},
   "outputs": [],
   "source": [
    "X_new = X_new[cols_to_Normal].apply( lambda rec:(rec - rec.mean())/rec.std(), axis =0)"
   ]
  },
  {
   "cell_type": "code",
   "execution_count": 50,
   "metadata": {},
   "outputs": [
    {
     "data": {
      "text/plain": [
       "pandas.core.frame.DataFrame"
      ]
     },
     "execution_count": 50,
     "metadata": {},
     "output_type": "execute_result"
    }
   ],
   "source": [
    "\n",
    "type(X_new)"
   ]
  },
  {
   "cell_type": "code",
   "execution_count": 51,
   "metadata": {},
   "outputs": [],
   "source": [
    "X_new['famhist'] = SAHeart_df['famhist']"
   ]
  },
  {
   "cell_type": "code",
   "execution_count": 52,
   "metadata": {},
   "outputs": [
    {
     "data": {
      "text/plain": [
       "['sbp',\n",
       " 'tobacco',\n",
       " 'ldl',\n",
       " 'adiposity',\n",
       " 'typea',\n",
       " 'obesity',\n",
       " 'alcohol',\n",
       " 'age',\n",
       " 'famhist']"
      ]
     },
     "execution_count": 52,
     "metadata": {},
     "output_type": "execute_result"
    }
   ],
   "source": [
    "X_new.head(10)\n",
    "list(X_new)"
   ]
  },
  {
   "cell_type": "code",
   "execution_count": 53,
   "metadata": {},
   "outputs": [
    {
     "data": {
      "text/plain": [
       "array([[ 1.05741729,  1.8210988 ,  0.47789413, -0.29518321, -0.41801699,\n",
       "        -0.17659445,  3.27418871,  0.62865426,  0.        ],\n",
       "       [ 0.27678925, -0.78938174, -0.15950708,  0.41169419,  0.19313443,\n",
       "         0.67064592, -0.61208112,  1.38161701,  1.        ],\n",
       "       [-0.99173133, -0.77414124, -0.6085852 ,  0.8833742 , -0.11244128,\n",
       "         0.73472292, -0.54059729,  0.2179473 ,  0.        ],\n",
       "       [ 1.54530982,  0.84135214,  0.80625232,  1.62238239, -0.21429985,\n",
       "         1.41109128,  0.2947424 ,  1.03936121,  0.        ],\n",
       "       [-0.21110328,  2.16945317, -0.59892761,  0.30501996,  0.70242729,\n",
       "        -0.01284211,  1.64599115,  0.42330078,  0.        ]])"
      ]
     },
     "execution_count": 53,
     "metadata": {},
     "output_type": "execute_result"
    }
   ],
   "source": [
    "X_new = np.array(X_new)\n",
    "X_new[0:5]"
   ]
  },
  {
   "cell_type": "code",
   "execution_count": 54,
   "metadata": {},
   "outputs": [
    {
     "data": {
      "text/plain": [
       "(462, 9)"
      ]
     },
     "execution_count": 54,
     "metadata": {},
     "output_type": "execute_result"
    }
   ],
   "source": [
    "X_new.shape"
   ]
  },
  {
   "cell_type": "markdown",
   "metadata": {},
   "source": [
    "## 4- Randomly Initialising values of beta coefficient ## "
   ]
  },
  {
   "cell_type": "code",
   "execution_count": 55,
   "metadata": {},
   "outputs": [],
   "source": [
    "import random"
   ]
  },
  {
   "cell_type": "code",
   "execution_count": 56,
   "metadata": {},
   "outputs": [],
   "source": [
    "def initialize_betas(dim):\n",
    "    b = random.random()\n",
    "    w = np.random.rand(dim)\n",
    "    return b,w \n",
    "\n",
    "\n"
   ]
  },
  {
   "cell_type": "code",
   "execution_count": 57,
   "metadata": {},
   "outputs": [
    {
     "name": "stdout",
     "output_type": "stream",
     "text": [
      "0.5685537051940374 [0.68286358 0.3776644  0.69823257 0.23433112 0.61337348 0.81984558\n",
      " 0.77348627 0.10434849 0.8914872 ]\n"
     ]
    }
   ],
   "source": [
    "b,w = initialize_betas(X_new.shape[1])\n",
    "print(b,w)"
   ]
  },
  {
   "cell_type": "code",
   "execution_count": 58,
   "metadata": {},
   "outputs": [
    {
     "data": {
      "text/plain": [
       "(9,)"
      ]
     },
     "execution_count": 58,
     "metadata": {},
     "output_type": "execute_result"
    }
   ],
   "source": [
    "\n",
    "w.shape"
   ]
  },
  {
   "cell_type": "markdown",
   "metadata": {},
   "source": [
    "## 5- Define a sigmoid function to predict Y ##"
   ]
  },
  {
   "cell_type": "code",
   "execution_count": 59,
   "metadata": {},
   "outputs": [],
   "source": [
    "def sigmoid(b, w ,X_new):\n",
    "    '''\n",
    "    Z= wx+b\n",
    "    '''\n",
    "    \n",
    "    ##############finish the code here#####################\n",
    "    Z = np.dot(X_new, w ) + b\n",
    "    Sigmoid_Z = 1 / (1 + np.exp(-Z))\n",
    "    return  Sigmoid_Z"
   ]
  },
  {
   "cell_type": "code",
   "execution_count": 60,
   "metadata": {},
   "outputs": [
    {
     "data": {
      "text/plain": [
       "array([0.98833996, 0.84224815, 0.38202256, 0.98588819, 0.93305877])"
      ]
     },
     "execution_count": 60,
     "metadata": {},
     "output_type": "execute_result"
    }
   ],
   "source": [
    "y_hat = sigmoid(b,w,X_new)\n",
    "\n",
    "y_hat[0:5]"
   ]
  },
  {
   "cell_type": "code",
   "execution_count": 61,
   "metadata": {},
   "outputs": [
    {
     "data": {
      "text/plain": [
       "array([[1],\n",
       "       [1],\n",
       "       [0],\n",
       "       [1],\n",
       "       [1]])"
      ]
     },
     "execution_count": 61,
     "metadata": {},
     "output_type": "execute_result"
    }
   ],
   "source": [
    "\n",
    "Y[0:5]"
   ]
  },
  {
   "cell_type": "code",
   "execution_count": 62,
   "metadata": {},
   "outputs": [
    {
     "data": {
      "text/plain": [
       "array([[1],\n",
       "       [1],\n",
       "       [0],\n",
       "       [1],\n",
       "       [1]])"
      ]
     },
     "execution_count": 62,
     "metadata": {},
     "output_type": "execute_result"
    }
   ],
   "source": [
    "Y[0:5]"
   ]
  },
  {
   "cell_type": "markdown",
   "metadata": {},
   "source": [
    "## 6- Define a function for calculating binary cross entropy loss function ##"
   ]
  },
  {
   "cell_type": "code",
   "execution_count": 63,
   "metadata": {},
   "outputs": [],
   "source": [
    "def get_cost( y, y_hat):\n",
    "    \n",
    "    '''\n",
    "    Input: y: a vector of true labels, y_hat: a vector of predicted outcome from logistic regression\n",
    "    Return: the value of cost or loss function\n",
    "    Loss function L = -1/m\\Sigma (y log y_hat + (1-y)log 1-y_hat)\n",
    "    \n",
    "    \n",
    "    '''\n",
    "    \n",
    "    ### finish the code here\n",
    "    loss = - np.sum(y * np.log(y_hat) + (1-y) * np.log(1-y_hat))/y.shape[0]\n",
    "    \n",
    "    return loss"
   ]
  },
  {
   "cell_type": "code",
   "execution_count": 64,
   "metadata": {},
   "outputs": [
    {
     "data": {
      "text/plain": [
       "((462,), (462,))"
      ]
     },
     "execution_count": 64,
     "metadata": {},
     "output_type": "execute_result"
    }
   ],
   "source": [
    "# Reshape Y\n",
    "Y=Y.reshape(len(Y), )\n",
    "current_cost= get_cost(Y,y_hat)\n",
    "#print(current_cost)\n",
    "Y.shape, y_hat.shape"
   ]
  },
  {
   "cell_type": "code",
   "execution_count": 65,
   "metadata": {},
   "outputs": [
    {
     "data": {
      "text/plain": [
       "(462, 9)"
      ]
     },
     "execution_count": 65,
     "metadata": {},
     "output_type": "execute_result"
    }
   ],
   "source": [
    "X_new.shape"
   ]
  },
  {
   "cell_type": "code",
   "execution_count": null,
   "metadata": {},
   "outputs": [],
   "source": []
  },
  {
   "cell_type": "markdown",
   "metadata": {},
   "source": [
    "## 7- Define a function for updating w and b using backpropagation"
   ]
  },
  {
   "cell_type": "code",
   "execution_count": 66,
   "metadata": {},
   "outputs": [],
   "source": [
    "# write backpropagation function here\n",
    "\n",
    "def backprop (b_0, w_0 , y , y_hat, X_new, alpha = 0.1):\n",
    "    '''\n",
    "    Input: weight to be updated b_0, and w_0, as well as y and y_hat to calculate dz (defined as dL/dz)\n",
    "    output: new updated b_0 and w_0\n",
    "    \n",
    "    \n",
    "    '''\n",
    "    dz = y_hat-y\n",
    "    ########finish the code here, to calculate db defined as dL/db\n",
    "    db = np.sum(dz)/y.shape[0]\n",
    "    \n",
    "    # update b_0\n",
    "    b_0 = b_0 - alpha * db\n",
    "    \n",
    "    \n",
    "    ########finish the code here, , to calculate db defined as dL/db\n",
    "    dw = np.dot(dz.T, X_new)/y.shape[0]\n",
    "    \n",
    "    #update w_0\n",
    "    w_0 = w_0 - alpha * dw\n",
    "   \n",
    "   \n",
    "    return b_0,w_0\n",
    "    "
   ]
  },
  {
   "cell_type": "code",
   "execution_count": 67,
   "metadata": {},
   "outputs": [
    {
     "data": {
      "text/plain": [
       "(462, 9)"
      ]
     },
     "execution_count": 67,
     "metadata": {},
     "output_type": "execute_result"
    }
   ],
   "source": [
    "X_new.shape"
   ]
  },
  {
   "cell_type": "code",
   "execution_count": 68,
   "metadata": {},
   "outputs": [
    {
     "data": {
      "text/plain": [
       "numpy.ndarray"
      ]
     },
     "execution_count": 68,
     "metadata": {},
     "output_type": "execute_result"
    }
   ],
   "source": [
    "alpha = 0.1\n",
    "\n",
    "type(y_hat)\n",
    "#(X_new).shape"
   ]
  },
  {
   "cell_type": "code",
   "execution_count": 69,
   "metadata": {},
   "outputs": [
    {
     "data": {
      "text/plain": [
       "()"
      ]
     },
     "execution_count": 69,
     "metadata": {},
     "output_type": "execute_result"
    }
   ],
   "source": [
    "b,w = backprop (b,w, Y, y_hat,X_new, alpha)\n",
    "\n",
    "b.shape"
   ]
  },
  {
   "cell_type": "code",
   "execution_count": 70,
   "metadata": {},
   "outputs": [
    {
     "data": {
      "text/plain": [
       "0.5392337331886381"
      ]
     },
     "execution_count": 70,
     "metadata": {},
     "output_type": "execute_result"
    }
   ],
   "source": [
    "b"
   ]
  },
  {
   "cell_type": "code",
   "execution_count": 71,
   "metadata": {},
   "outputs": [
    {
     "data": {
      "text/plain": [
       "array([0.67689848, 0.37935624, 0.69444912, 0.22433213, 0.60933634,\n",
       "       0.80401551, 0.76421198, 0.10613973, 0.8681401 ])"
      ]
     },
     "execution_count": 71,
     "metadata": {},
     "output_type": "execute_result"
    }
   ],
   "source": [
    "#print(b,w)\n",
    "w"
   ]
  },
  {
   "cell_type": "markdown",
   "metadata": {},
   "source": [
    "##  8- Finally, let's try the gradient descent!\n"
   ]
  },
  {
   "cell_type": "code",
   "execution_count": 72,
   "metadata": {},
   "outputs": [
    {
     "name": "stdout",
     "output_type": "stream",
     "text": [
      "initial guess of b and w:  0.8135413952865866 [0.67467834 0.44799528 0.75524346 0.8193404  0.87323671 0.92205084\n",
      " 0.90368817 0.20712673 0.08040002]\n",
      "Iteration:  0 Cost:  1.1235819658179953\n",
      "Iteration:  10 Cost:  0.589786959902852\n",
      "Iteration:  20 Cost:  0.5223673728628698\n",
      "Iteration:  30 Cost:  0.5140342593297114\n",
      "Iteration:  40 Cost:  0.5121161120787974\n",
      "Iteration:  50 Cost:  0.5114695780462635\n",
      "Iteration:  60 Cost:  0.5112051071115653\n",
      "Iteration:  70 Cost:  0.5110870479240975\n",
      "Iteration:  80 Cost:  0.511031875208611\n",
      "Iteration:  90 Cost:  0.5110051615718628\n",
      "Iteration:  100 Cost:  0.5109917310585275\n",
      "Iteration:  110 Cost:  0.510984671812462\n",
      "Iteration:  120 Cost:  0.5109807659628048\n",
      "Iteration:  130 Cost:  0.5109784828573557\n",
      "Iteration:  140 Cost:  0.5109770751502772\n",
      "Iteration:  150 Cost:  0.5109761654535522\n",
      "Iteration:  160 Cost:  0.5109755549327676\n",
      "Iteration:  170 Cost:  0.5109751334401028\n",
      "Iteration:  180 Cost:  0.5109748365605642\n",
      "Iteration:  190 Cost:  0.5109746245780742\n",
      "Iteration:  200 Cost:  0.5109744718347239\n",
      "Iteration:  210 Cost:  0.5109743611185386\n",
      "Iteration:  220 Cost:  0.5109742805528407\n",
      "Iteration:  230 Cost:  0.5109742217768698\n",
      "Iteration:  240 Cost:  0.510974178824144\n",
      "Iteration:  250 Cost:  0.5109741473980441\n",
      "Iteration:  260 Cost:  0.510974124386037\n",
      "Iteration:  270 Cost:  0.5109741075246164\n",
      "Iteration:  280 Cost:  0.5109740951635379\n",
      "Iteration:  290 Cost:  0.5109740860976472\n",
      "Iteration:  300 Cost:  0.5109740794458333\n",
      "Iteration:  310 Cost:  0.5109740745633824\n",
      "Iteration:  320 Cost:  0.5109740709782742\n",
      "Iteration:  330 Cost:  0.5109740683447616\n",
      "Iteration:  340 Cost:  0.5109740664094901\n",
      "Iteration:  350 Cost:  0.5109740649867422\n",
      "Iteration:  360 Cost:  0.5109740639403346\n",
      "Iteration:  370 Cost:  0.5109740631703735\n",
      "Iteration:  380 Cost:  0.5109740626035596\n",
      "Iteration:  390 Cost:  0.51097406218609\n",
      "Iteration:  400 Cost:  0.510974061878458\n",
      "Iteration:  410 Cost:  0.5109740616516435\n",
      "Iteration:  420 Cost:  0.5109740614843221\n",
      "Iteration:  430 Cost:  0.510974061360817\n",
      "Iteration:  440 Cost:  0.510974061269599\n",
      "Iteration:  450 Cost:  0.5109740612021851\n",
      "Iteration:  460 Cost:  0.5109740611523309\n",
      "Iteration:  470 Cost:  0.5109740611154376\n",
      "Iteration:  480 Cost:  0.5109740610881165\n",
      "Iteration:  490 Cost:  0.5109740610678694\n",
      "Final estimates of b and q are:  -0.3377722761339356 [ 0.13330635  0.36457426  0.36018352  0.14460336  0.38872598 -0.26507213\n",
      "  0.00298149  0.66070866 -0.92532871]\n"
     ]
    }
   ],
   "source": [
    "num_iterations = 500\n",
    "alpha = 0.5\n",
    "\n",
    "all_costs = []\n",
    "b,w = initialize_betas(X_new.shape[1])\n",
    "print(\"initial guess of b and w: \" , b ,w)\n",
    "\n",
    "for each_iter in range (num_iterations ):\n",
    "    ###### finish the code below\n",
    "    y_hat = sigmoid(b,w,X_new)\n",
    "    current_cost = get_cost(Y,y_hat)\n",
    "    prev_b = b\n",
    "    prev_w = w\n",
    "    b, w = backprop (prev_b, prev_w, Y, y_hat,X_new, alpha)\n",
    "    all_costs.append(current_cost)\n",
    "    if each_iter % 10 == 0:\n",
    "        print('Iteration: ', each_iter, 'Cost: ', current_cost)\n",
    "        each_iter += 1\n",
    "    \n",
    "#print('b_0:', b_0, 'b_1:',b_1,'b_2:',b_2,'b_3:',b_3,'b_4:', b_4, 'b_5:',b_5,'b_6:',b_6,'b_7:',b_7,'b_8:',b_8,'b_9:',b_9)\n",
    "print(\"Final estimates of b and q are: \", b,w)"
   ]
  },
  {
   "cell_type": "markdown",
   "metadata": {},
   "source": [
    "## 9- Let's validate our result against sklearn logistic regression API"
   ]
  },
  {
   "cell_type": "code",
   "execution_count": 73,
   "metadata": {},
   "outputs": [],
   "source": [
    "from sklearn.linear_model import LogisticRegression\n",
    "\n",
    "lreg = LogisticRegression()\n",
    "lmodel = lreg.fit(X_new, Y)"
   ]
  },
  {
   "cell_type": "code",
   "execution_count": 74,
   "metadata": {},
   "outputs": [
    {
     "data": {
      "text/plain": [
       "array([-0.35563668])"
      ]
     },
     "execution_count": 74,
     "metadata": {},
     "output_type": "execute_result"
    }
   ],
   "source": [
    "lmodel.intercept_"
   ]
  },
  {
   "cell_type": "code",
   "execution_count": 75,
   "metadata": {},
   "outputs": [
    {
     "data": {
      "text/plain": [
       "array([[ 0.13250588,  0.36074464,  0.3561588 ,  0.14243272,  0.37963858,\n",
       "        -0.25523773,  0.00444212,  0.64962484, -0.88057699]])"
      ]
     },
     "execution_count": 75,
     "metadata": {},
     "output_type": "execute_result"
    }
   ],
   "source": [
    "lmodel.coef_"
   ]
  },
  {
   "cell_type": "markdown",
   "metadata": {},
   "source": [
    "## 10- Visualization using matplotlib"
   ]
  },
  {
   "cell_type": "code",
   "execution_count": 76,
   "metadata": {},
   "outputs": [],
   "source": [
    "\n",
    "\n",
    "import matplotlib.pyplot as plt\n",
    "import seaborn as sn\n",
    "%matplotlib inline"
   ]
  },
  {
   "cell_type": "code",
   "execution_count": 77,
   "metadata": {},
   "outputs": [
    {
     "data": {
      "text/plain": [
       "<matplotlib.collections.PathCollection at 0x7f7efe2c8a60>"
      ]
     },
     "execution_count": 77,
     "metadata": {},
     "output_type": "execute_result"
    },
    {
     "data": {
      "image/png": "[encoded data removed]",
      "text/plain": [
       "<Figure size 640x480 with 1 Axes>"
      ]
     },
     "metadata": {},
     "output_type": "display_data"
    }
   ],
   "source": [
    "plt.scatter( range(num_iterations), all_costs)\n",
    "\n",
    "#len(range(each_iter))"
   ]
  },
  {
   "cell_type": "markdown",
   "metadata": {},
   "source": [
    "### Gradient descent is converging correctly for 500 iterations and with learning rate =0.5"
   ]
  },
  {
   "cell_type": "markdown",
   "metadata": {},
   "source": [
    "## 11- Tuning learning rate alpha"
   ]
  },
  {
   "cell_type": "code",
   "execution_count": 78,
   "metadata": {
    "scrolled": false
   },
   "outputs": [
    {
     "name": "stdout",
     "output_type": "stream",
     "text": [
      "current learning rate is 0.01\n",
      "initial guess of b and w:  0.24602852419434018 [0.13328034 0.68833151 0.76672845 0.69324465 0.20385939 0.36738247\n",
      " 0.73938839 0.63844865 0.23711801]\n",
      "Iteration:  0 Cost:  0.8668244038369632\n",
      "Iteration:  30 Cost:  0.8248677055759897\n",
      "Iteration:  60 Cost:  0.7864862240317503\n",
      "Iteration:  90 Cost:  0.7516865307975718\n",
      "Iteration:  120 Cost:  0.7204203703744122\n",
      "Iteration:  150 Cost:  0.6925834853943287\n",
      "Iteration:  180 Cost:  0.6680187340787032\n",
      "Iteration:  210 Cost:  0.646523246285408\n",
      "Iteration:  240 Cost:  0.627858728327675\n",
      "Iteration:  270 Cost:  0.6117635960725168\n",
      "Iteration:  300 Cost:  0.5979654714756857\n",
      "Iteration:  330 Cost:  0.5861927168309452\n",
      "Iteration:  360 Cost:  0.5761840316621805\n",
      "Iteration:  390 Cost:  0.5676955881675981\n",
      "Iteration:  420 Cost:  0.5605056172901494\n",
      "Iteration:  450 Cost:  0.5544166926805183\n",
      "Iteration:  480 Cost:  0.5492561560731698\n",
      "Iteration:  510 Cost:  0.5448751930262856\n",
      "Iteration:  540 Cost:  0.54114703851658\n",
      "Iteration:  570 Cost:  0.5379647100776764\n",
      "Iteration:  600 Cost:  0.5352385670284193\n",
      "Iteration:  630 Cost:  0.5328939002857213\n",
      "Iteration:  660 Cost:  0.5308686792789412\n",
      "Iteration:  690 Cost:  0.5291115236341632\n",
      "Iteration:  720 Cost:  0.5275799262036164\n",
      "Iteration:  750 Cost:  0.5262387274198034\n",
      "Iteration:  780 Cost:  0.5250588252300549\n",
      "Iteration:  810 Cost:  0.5240160967697932\n",
      "Iteration:  840 Cost:  0.5230905048678367\n",
      "Iteration:  870 Cost:  0.5222653625202269\n",
      "Iteration:  900 Cost:  0.5215267302723245\n",
      "Iteration:  930 Cost:  0.5208629241148708\n",
      "Iteration:  960 Cost:  0.5202641144612707\n",
      "Iteration:  990 Cost:  0.5197219996938849\n",
      "Final estimates of b and q are:  -0.5124461091605034 [ 0.06741881  0.4012098   0.42562237  0.16058754  0.31402657 -0.19852709\n",
      "  0.12229079  0.51653687 -0.44755153]\n",
      "current learning rate is 0.001\n",
      "initial guess of b and w:  0.3541647584295976 [0.36676512 0.3432828  0.82286022 0.24373731 0.95512767 0.99860941\n",
      " 0.08982368 0.90607887 0.33110346]\n",
      "Iteration:  0 Cost:  0.9378389130425917\n",
      "Iteration:  30 Cost:  0.9331777867561599\n",
      "Iteration:  60 Cost:  0.9285484978604471\n",
      "Iteration:  90 Cost:  0.9239511183654562\n",
      "Iteration:  120 Cost:  0.9193857177605835\n",
      "Iteration:  150 Cost:  0.9148523629658273\n",
      "Iteration:  180 Cost:  0.9103511182833118\n",
      "Iteration:  210 Cost:  0.9058820453491727\n",
      "Iteration:  240 Cost:  0.9014452030858359\n",
      "Iteration:  270 Cost:  0.8970406476547284\n",
      "Iteration:  300 Cost:  0.892668432409464\n",
      "Iteration:  330 Cost:  0.8883286078495425\n",
      "Iteration:  360 Cost:  0.8840212215746008\n",
      "Iteration:  390 Cost:  0.8797463182392607\n",
      "Iteration:  420 Cost:  0.8755039395086127\n",
      "Iteration:  450 Cost:  0.8712941240143817\n",
      "Iteration:  480 Cost:  0.8671169073118132\n",
      "Iteration:  510 Cost:  0.862972321837328\n",
      "Iteration:  540 Cost:  0.858860396866987\n",
      "Iteration:  570 Cost:  0.8547811584758123\n",
      "Iteration:  600 Cost:  0.8507346294980112\n",
      "Iteration:  630 Cost:  0.8467208294881428\n",
      "Iteration:  660 Cost:  0.8427397746832813\n",
      "Iteration:  690 Cost:  0.8387914779662173\n",
      "Iteration:  720 Cost:  0.8348759488297446\n",
      "Iteration:  750 Cost:  0.8309931933420798\n",
      "Iteration:  780 Cost:  0.8271432141134606\n",
      "Iteration:  810 Cost:  0.8233260102639722\n",
      "Iteration:  840 Cost:  0.8195415773926467\n",
      "Iteration:  870 Cost:  0.8157899075478827\n",
      "Iteration:  900 Cost:  0.8120709891992336\n",
      "Iteration:  930 Cost:  0.8083848072106066\n",
      "Iteration:  960 Cost:  0.8047313428149266\n",
      "Iteration:  990 Cost:  0.8011105735903035\n",
      "Final estimates of b and q are:  0.14352642084622103 [0.31291605 0.3426509  0.7406018  0.1031066  0.89626939 0.81860643\n",
      " 0.06400629 0.85516289 0.17370006]\n",
      "current learning rate is 0.0001\n",
      "initial guess of b and w:  0.7890160374780241 [0.76707286 0.81603961 0.16581228 0.68775648 0.29745891 0.51821259\n",
      " 0.06755004 0.45217809 0.3194495 ]\n",
      "Iteration:  0 Cost:  0.9908883433994427\n",
      "Iteration:  30 Cost:  0.9903468625918582\n",
      "Iteration:  60 Cost:  0.9898057585311594\n",
      "Iteration:  90 Cost:  0.9892650313160201\n",
      "Iteration:  120 Cost:  0.9887246810448687\n",
      "Iteration:  150 Cost:  0.9881847078158905\n",
      "Iteration:  180 Cost:  0.9876451117270252\n",
      "Iteration:  210 Cost:  0.987105892875968\n",
      "Iteration:  240 Cost:  0.9865670513601665\n",
      "Iteration:  270 Cost:  0.9860285872768206\n",
      "Iteration:  300 Cost:  0.9854905007228844\n",
      "Iteration:  330 Cost:  0.9849527917950612\n",
      "Iteration:  360 Cost:  0.9844154605898054\n",
      "Iteration:  390 Cost:  0.9838785072033214\n",
      "Iteration:  420 Cost:  0.9833419317315624\n",
      "Iteration:  450 Cost:  0.9828057342702292\n",
      "Iteration:  480 Cost:  0.9822699149147709\n",
      "Iteration:  510 Cost:  0.9817344737603826\n",
      "Iteration:  540 Cost:  0.9811994109020051\n",
      "Iteration:  570 Cost:  0.9806647264343246\n",
      "Iteration:  600 Cost:  0.9801304204517717\n",
      "Iteration:  630 Cost:  0.9795964930485201\n",
      "Iteration:  660 Cost:  0.9790629443184864\n",
      "Iteration:  690 Cost:  0.9785297743553291\n",
      "Iteration:  720 Cost:  0.9779969832524471\n",
      "Iteration:  750 Cost:  0.9774645711029822\n",
      "Iteration:  780 Cost:  0.9769325379998126\n",
      "Iteration:  810 Cost:  0.9764008840355577\n",
      "Iteration:  840 Cost:  0.9758696093025737\n",
      "Iteration:  870 Cost:  0.9753387138929542\n",
      "Iteration:  900 Cost:  0.9748081978985296\n",
      "Iteration:  930 Cost:  0.9742780614108657\n",
      "Iteration:  960 Cost:  0.9737483045212636\n",
      "Iteration:  990 Cost:  0.9732189273207583\n",
      "Final estimates of b and q are:  0.7612138865249451 [0.75781582 0.81316522 0.16319892 0.67319877 0.29988384 0.5029468\n",
      " 0.06325917 0.44537402 0.29956828]\n"
     ]
    },
    {
     "data": {
      "image/png": "[encoded data removed]",
      "text/plain": [
       "<Figure size 640x480 with 1 Axes>"
      ]
     },
     "metadata": {},
     "output_type": "display_data"
    }
   ],
   "source": [
    "####plot the cost function for different alpha values, 0.01,0.001,0.0001\n",
    "\n",
    "# For alpha =0.01\n",
    "\n",
    "alphas = [0.01, 0.001, 0.0001]\n",
    "num_iterations = 1000\n",
    "colors = ['r', 'g', 'b']\n",
    "for i, alpha in enumerate(alphas):\n",
    "    print(f'current learning rate is {alpha}')\n",
    "\n",
    "    all_costs = []\n",
    "    b,w = initialize_betas(X_new.shape[1])\n",
    "    print(\"initial guess of b and w: \" , b ,w)\n",
    "\n",
    "    for each_iter in range (num_iterations ):\n",
    "        ################finish the code below##################\n",
    "        y_hat = sigmoid(b,w,X_new)\n",
    "        current_cost = get_cost(Y,y_hat)\n",
    "        prev_b = b\n",
    "        prev_w = w\n",
    "        \n",
    "        ################finish the code below##################\n",
    "        b, w = backprop (prev_b, prev_w, Y, y_hat,X_new, alpha)\n",
    "        all_costs.append(current_cost)\n",
    "        if each_iter % 30 == 0:\n",
    "            print('Iteration: ', each_iter, 'Cost: ', current_cost)\n",
    "            each_iter += 1\n",
    "\n",
    "    #print('b_0:', b_0, 'b_1:',b_1,'b_2:',b_2,'b_3:',b_3,'b_4:', b_4, 'b_5:',b_5,'b_6:',b_6,'b_7:',b_7,'b_8:',b_8,'b_9:',b_9)\n",
    "    print(\"Final estimates of b and q are: \", b,w)\n",
    "    plt.scatter( range(num_iterations), all_costs, c = colors[i], label = f'{alpha}')\n",
    "    plt.legend()"
   ]
  },
  {
   "cell_type": "markdown",
   "metadata": {},
   "source": [
    "According to the experiment above, which is the best choice for alpha? Why?\n",
    "\n",
    "**Answer Below**:\n"
   ]
  },
  {
   "cell_type": "markdown",
   "metadata": {},
   "source": [
    "### Answer: \n",
    "#### 0.01 is the best alpha.\n",
    "#### (1)when alpha is equal to 0.01, the model converges to best alpha quicker than the others alphas(0.001, 0.0001)\n",
    "#### (2)the model achieves smaller cost under given number of iterations."
   ]
  },
  {
   "cell_type": "code",
   "execution_count": null,
   "metadata": {},
   "outputs": [],
   "source": []
  }
 ],
 "metadata": {
  "kernelspec": {
   "display_name": "Python 3 (ipykernel)",
   "language": "python",
   "name": "python3"
  },
  "language_info": {
   "codemirror_mode": {
    "name": "ipython",
    "version": 3
   },
   "file_extension": ".py",
   "mimetype": "text/x-python",
   "name": "python",
   "nbconvert_exporter": "python",
   "pygments_lexer": "ipython3",
   "version": "3.8.8"
  }
 },
 "nbformat": 4,
 "nbformat_minor": 2
}
